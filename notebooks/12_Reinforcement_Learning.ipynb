{
 "cells": [
  {
   "cell_type": "markdown",
   "metadata": {
    "slideshow": {
     "slide_type": "slide"
    }
   },
   "source": [
    "# Lesson 12: Reinforcement Learning\n",
    "\n",
    "## Intro to Quantified Cognition\n",
    "\n",
    "<a href=\"https://colab.research.google.com/github/compmem/QuantCog/blob/2021_Spring/notebooks/12_Reinforcement_Learning.ipynb\"><img align=\"left\" src=\"https://colab.research.google.com/assets/colab-badge.svg\" alt=\"Open in Colab\" title=\"Open and Execute in Google Colaboratory\"></a>"
   ]
  },
  {
   "cell_type": "markdown",
   "metadata": {
    "slideshow": {
     "slide_type": "slide"
    }
   },
   "source": [
    "## Lesson plan\n",
    "\n",
    "- Introduce Machine Learning\n",
    "- Fundamentals of Reinforcement Learning\n",
    "- Successor Representation\n",
    "- Frozen Lake example"
   ]
  },
  {
   "cell_type": "markdown",
   "metadata": {
    "slideshow": {
     "slide_type": "slide"
    }
   },
   "source": [
    "![](https://cdn.app.compendium.com/uploads/user/e7c690e8-6ff9-102a-ac6d-e4aebca50425/03391c68-5c5e-493c-95a5-a92b492b9025/Image/5effec57771fb85b9fbaaafc87fbb27d/picture1.png)"
   ]
  },
  {
   "cell_type": "markdown",
   "metadata": {
    "slideshow": {
     "slide_type": "slide"
    }
   },
   "source": [
    "## Fundamentals of RL\n",
    "\n",
    "- Reinforcement learning (RL) can combine both Supervised and Unsupervised Learning.\n",
    "- The goal is for the *agent* to learn *actions* to take in an *environment* to maximize *reward*.\n",
    "\n",
    "### Policy\n",
    "\n",
    "Defines how the agent behaves in the environment. This is typically a mapping between perceived states of the world and possible actions. The policy is essentially the \"rules to live by\" for the agent.\n",
    "\n",
    "### Reward function\n",
    "\n",
    "The rewards (and punishments) define the goals of RL problem. The environment provides a reward signal to the agent at every time step. \n",
    "\n",
    "The policy can be adjusted to maximize rewards and the agent can influence the rewards by performing different actions in the environment to change the state or (where possible) alter the environment directly.\n",
    "\n",
    "### Value function\n",
    "\n",
    "This function estimates the predicted future reward for a given state or state--action pair. Learning this function is at the core of RL and is the information that guides the policy governing behavior in the environment.\n",
    "\n",
    "### Model of the environment (optional)\n",
    "\n",
    "Although not required for all RL algorithms, it is often useful for the agent to learn a model of the environment that estimates what agent *thinks* will happen when performing specific actions in a particular state. \n"
   ]
  },
  {
   "cell_type": "markdown",
   "metadata": {
    "slideshow": {
     "slide_type": "slide"
    }
   },
   "source": [
    "## Markov Decision Problem\n",
    "\n",
    "Most RL can be formalized as a Markov Decision Problem (MDP) that involves sensing the *states* and perfoming *actions* to achieve a *goal*. \n",
    "\n",
    "The key feature of an MDP is that the probability of ending up in some new state $s_{t+1}'$ given that you are in the current state $s_t$ and perform action $a_t$ only depends on the current state and not any previous states. That is to say, all of the history can be integrated into the current state $s_t.$\n",
    "\n",
    "<img src=\"https://miro.medium.com/max/1400/1*QF9pmAOS5-Dn1B7RUH1zUA.png\" \n",
    "     alt=\"gridworld\" width=\"400\"/>\n"
   ]
  },
  {
   "cell_type": "markdown",
   "metadata": {
    "slideshow": {
     "slide_type": "slide"
    }
   },
   "source": [
    "## Maximizing *future* reward\n",
    "\n",
    "The goal of an agent is usually to maximize *future* reward, not just immediate reward. Thus an optimal policy can often have the agent forgo an immediate reward in order to gain more more rewards in the future:\n",
    "\n",
    "<img src=\"https://www.sciencenews.org/wp-content/uploads/2018/06/062918_BB_marshmallow-test_feat.jpg\" \n",
    "     alt=\"marshmallows\" width=\"500\"/>\n",
    "\n",
    "To keep this problem tracktable, instead of estimating out to infinity, the agent can estimate the *discounted* future reward:\n",
    "\n",
    "\n",
    "$$G_t = R_{t+1} + \\gamma R_{t+2} + \\gamma^2 R_{t+3} + \\gamma^3 R_{t+4}... = \\sum_{k=0}^{\\infty} \\gamma^k R_{t+k+1}$$\n"
   ]
  },
  {
   "cell_type": "markdown",
   "metadata": {
    "slideshow": {
     "slide_type": "slide"
    }
   },
   "source": [
    "## Calculating value\n",
    "\n",
    "Estimating value is at the core of all RL algorithms. Value functions ($v$) are dependent on the policy ($\\pi$) for estimating future reward for a given state ($s$):\n",
    "\n",
    "$$v_\\pi(s) = \\mathbb{E}_\\pi(R_{t+1} + \\gamma R_{t+2} + \\gamma^2 R_{t+3} + \\gamma^3 R_{t+4}... \\vert S_t=s)$$\n",
    "\n",
    "This estimates the discounted future value of a state given the current policy. To guide decisions for how to act, the agent must also estimate the value of taking a particular action in a given state, which can be learned via temporal difference learning and the Bellman Equation:\n",
    "\n",
    "$$Q_\\pi(s_t, a_t) = Q_\\pi(s_t, a_t) + \\alpha (R_t + \\gamma max(Q_\\pi(s_{t+1}, a_{t+1})) - Q_\\pi(s_t, a_t))$$"
   ]
  },
  {
   "cell_type": "markdown",
   "metadata": {
    "slideshow": {
     "slide_type": "slide"
    }
   },
   "source": [
    "## Exploration vs. Exploitation\n",
    "\n",
    "During learning, the agent must adopt a policy that balances exploration of the environment with exploitation of current knowledge. Usually this is accomplished by biasing the agent to make more random decisions at the start of learning and gradually shift to exploiting learned values later."
   ]
  },
  {
   "cell_type": "markdown",
   "metadata": {
    "slideshow": {
     "slide_type": "slide"
    }
   },
   "source": [
    "## Successor Representation\n",
    "\n",
    "Hybrid of Model-based and Model-free RL developed by Peter Dayan (1993), where the agent learns a model of the world and, separately, the reward values at each state they've experienced. Specifically, the agent learns the expected discounted number of future visitations of all states given a current state and action:\n",
    "\n",
    "$$M = M + \\alpha(f_{i+1} + \\gamma Mf_{i+1} - Mf_i) f_i^T$$\n",
    "\n",
    "and you can add in an eligibility trace (context) to learn faster:\n",
    "\n",
    "$$M = M + \\alpha(f_{i+1} + \\gamma Mf_{i+1} - Mf_i) t_i^T$$\n",
    "\n",
    "where\n",
    "\n",
    "$$t_i = \\rho t_{i-1} + f_i $$\n",
    "\n",
    "Thus, it is possible for and agent to make predictions of future states given specific state--actions and combine that information with known rewards/punishments to guide the policy."
   ]
  },
  {
   "cell_type": "markdown",
   "metadata": {
    "slideshow": {
     "slide_type": "slide"
    }
   },
   "source": [
    "## Frisbee on a frozen lake problem\n",
    "\n",
    "\"Winter is here. You and your friends were tossing around a frisbee at the park when you made a wild throw that left the frisbee out in the middle of the lake. The water is mostly frozen, but there are a few holes where the ice has melted. If you step into one of those holes, you'll fall into the freezing water. At this time, there's an international frisbee shortage, so it's absolutely imperative that you navigate across the lake and retrieve the disc. However, the ice is slippery, so you won't always move in the direction you intend.\"\n",
    "\n",
    "https://gym.openai.com/envs/FrozenLake8x8-v0/"
   ]
  },
  {
   "cell_type": "markdown",
   "metadata": {
    "slideshow": {
     "slide_type": "slide"
    }
   },
   "source": [
    "## *ONLY* if on Google Colab"
   ]
  },
  {
   "cell_type": "code",
   "execution_count": null,
   "metadata": {},
   "outputs": [],
   "source": [
    "# to install more libraries\n",
    "!pip install gym"
   ]
  },
  {
   "cell_type": "markdown",
   "metadata": {
    "slideshow": {
     "slide_type": "slide"
    }
   },
   "source": [
    "## Load modules of power"
   ]
  },
  {
   "cell_type": "code",
   "execution_count": 1,
   "metadata": {
    "slideshow": {
     "slide_type": "slide"
    }
   },
   "outputs": [],
   "source": [
    "# load matplotlib inline mode\n",
    "%matplotlib inline\n",
    "\n",
    "# import some useful libraries\n",
    "import numpy as np                # numerical analysis linear algebra\n",
    "import matplotlib.pyplot as plt   # plotting\n",
    "\n",
    "from IPython.display import display, clear_output\n",
    "import time\n",
    "\n",
    "import gym\n",
    "from gym.envs.toy_text import frozen_lake\n"
   ]
  },
  {
   "cell_type": "code",
   "execution_count": 50,
   "metadata": {
    "slideshow": {
     "slide_type": "slide"
    }
   },
   "outputs": [],
   "source": [
    "# define the environment\n",
    "size = 10\n",
    "p_frozen = 0.8\n",
    "slippery = False\n",
    "\n",
    "# generate a random map\n",
    "desc = frozen_lake.generate_random_map(size=size, p=p_frozen)\n",
    "env = frozen_lake.FrozenLakeEnv(desc=desc,\n",
    "                                is_slippery=slippery)\n"
   ]
  },
  {
   "cell_type": "code",
   "execution_count": 33,
   "metadata": {
    "slideshow": {
     "slide_type": "slide"
    }
   },
   "outputs": [
    {
     "name": "stdout",
     "output_type": "stream",
     "text": [
      "  (Down)\n",
      "SFFFFFFFFF\n",
      "FFFFFFFFFF\n",
      "FFFFFFFFFF\n",
      "FFFFFFFFFF\n",
      "FFFHFHFFFF\n",
      "FFFFFFFFFF\n",
      "FFFHFFFHFF\n",
      "FFFFFFFFFF\n",
      "FFFFFFFFFF\n",
      "FFFFFFFFF\u001b[41mG\u001b[0m\n",
      "\n"
     ]
    },
    {
     "data": {
      "text/plain": [
       "None"
      ]
     },
     "metadata": {},
     "output_type": "display_data"
    },
    {
     "name": "stdout",
     "output_type": "stream",
     "text": [
      "Episode finished after 46 timesteps\n"
     ]
    }
   ],
   "source": [
    "## reset the environment and get the initial state\n",
    "observation = env.reset()\n",
    "display(print(env.render(mode='ansi')))\n",
    "\n",
    "# loop for a max number of iterations\n",
    "for t in range(100):\n",
    "    # pick an action at random\n",
    "    action = int(input('0=L, 1=D, 2=R, 3=U:'))\n",
    "    #action = env.action_space.sample()\n",
    "    \n",
    "    # take that action and observe the results\n",
    "    observation, reward, done, info = env.step(action)\n",
    "    \n",
    "    # draw the new state to the screen\n",
    "    clear_output(wait=True)\n",
    "    display(print(env.render(mode='ansi')))\n",
    "    \n",
    "    # see if we're done (either by falling in a hole or reaching the goal)\n",
    "    if done:\n",
    "        print(\"Episode finished after {} timesteps\".format(t+1))\n",
    "        break\n",
    "    time.sleep(.25)"
   ]
  },
  {
   "cell_type": "code",
   "execution_count": 39,
   "metadata": {
    "slideshow": {
     "slide_type": "slide"
    }
   },
   "outputs": [],
   "source": [
    "## params\n",
    "gamma = .9\n",
    "alpha = .5\n",
    "rho = .75\n",
    "tau = 10.0\n",
    "p_rand = 0.0\n",
    "hole_penalty = -1.0\n",
    "off_board_penalty = -0.0\n",
    "\n",
    "# set up our agent\n",
    "n_actions = env.action_space.n\n",
    "n_states = env.observation_space.n\n",
    "states = np.eye(n_states)\n",
    "rewards = np.zeros(n_states)\n",
    "M = np.zeros((n_actions, n_states, n_states))\n",
    "scores = []\n",
    "\n",
    "# define a policy\n",
    "def pick_action(f0, M, rewards, tau, p_rand=0.0):\n",
    "    # apply policy to pick action\n",
    "    if p_rand > 0.0 and np.random.rand() < p_rand:\n",
    "        # pick a random action\n",
    "        action = env.action_space.sample()\n",
    "    else:\n",
    "        # pick an action based on our Q function\n",
    "        Q = np.dot(np.dot(M, f0), rewards)\n",
    "        #action = np.random.choice(np.where(Q==Q.max())[0])\n",
    "        #action = np.argmax(Q)\n",
    "        pQ = np.exp(Q*tau)/np.exp(Q*tau).sum()\n",
    "        action = np.argmax(np.random.rand() < np.cumsum(pQ))\n",
    "    return action\n"
   ]
  },
  {
   "cell_type": "code",
   "execution_count": 47,
   "metadata": {
    "slideshow": {
     "slide_type": "slide"
    }
   },
   "outputs": [
    {
     "name": "stderr",
     "output_type": "stream",
     "text": [
      "/home/per/anaconda3/lib/python3.7/site-packages/ipykernel_launcher.py:29: RuntimeWarning: overflow encountered in exp\n",
      "/home/per/anaconda3/lib/python3.7/site-packages/ipykernel_launcher.py:29: RuntimeWarning: invalid value encountered in true_divide\n"
     ]
    },
    {
     "name": "stdout",
     "output_type": "stream",
     "text": [
      "  (Down)\n",
      "SFFFFFFFFF\n",
      "FFFFFFFFFF\n",
      "FFFFFFFFFF\n",
      "FFFFFFFFFF\n",
      "FFFHF\u001b[41mH\u001b[0mFFFG\n",
      "FFFFFFFFFF\n",
      "FFFHFFFHFF\n",
      "FFFFFFFFFF\n",
      "FFFFFFFFFF\n",
      "FFFFFFFFFH\n"
     ]
    },
    {
     "data": {
      "text/plain": [
       "[<matplotlib.lines.Line2D at 0x7f44a4b9e090>]"
      ]
     },
     "execution_count": 47,
     "metadata": {},
     "output_type": "execute_result"
    },
    {
     "data": {
      "image/png": "[encoded data removed]",
      "text/plain": [
       "<Figure size 432x288 with 1 Axes>"
      ]
     },
     "metadata": {
      "needs_background": "light"
     },
     "output_type": "display_data"
    }
   ],
   "source": [
    "for r in range(1000):\n",
    "    # reset for new attempt at recovering the frisbee\n",
    "    observation = env.reset()\n",
    "    last_obs = observation\n",
    "    f0 = states[observation]\n",
    "    t0 = states[observation]\n",
    "    \n",
    "    for i in range(1000):\n",
    "        # pick an action\n",
    "        action = pick_action(f0, M, rewards, tau, p_rand=p_rand)\n",
    "        \n",
    "        # observe new state\n",
    "        observation, reward, done, info = env.step(action)\n",
    "        \n",
    "        # turn the new state into a vector representation\n",
    "        f1 = states[observation]\n",
    "\n",
    "        # learn via successor representation\n",
    "        # prediction from previous state\n",
    "        p0 = np.dot(M[action], f0)\n",
    "        \n",
    "        # observed outcome, plus discounted future prediction\n",
    "        # when following that policy\n",
    "        f1_action = pick_action(f1, M, rewards, tau, p_rand=p_rand)\n",
    "        o1 = (f1 + gamma*(np.dot(M[f1_action], f1)))\n",
    "        \n",
    "        # update the association for that action\n",
    "        M[action] += alpha * np.outer((o1 - p0), t0)\n",
    "\n",
    "        # update context (eligibility trace)\n",
    "        t1 = rho*t0 + f1\n",
    "\n",
    "        # process the reward if any\n",
    "        if done and reward==0:\n",
    "            # get negative rewards for falling in a hole\n",
    "            reward = hole_penalty\n",
    "            \n",
    "        if last_obs == observation:\n",
    "            # action gave rise to no change in movement\n",
    "            reward = off_board_penalty\n",
    "            \n",
    "        #if reward == 0:\n",
    "        #    # punish going to a state and not getting anything for it\n",
    "        #    rewards[last_obs] -= .1\n",
    "\n",
    "        # update our representation of rewards/punishments at the observed state\n",
    "        rewards[observation] += alpha*(reward - rewards[observation])\n",
    "\n",
    "        # see if we're done\n",
    "        if done:\n",
    "            #print(\"Episode finished after {} timesteps with reward {}\".format(i+1, reward))\n",
    "            # save out our final reward/punishment\n",
    "            scores.append(reward)\n",
    "            break\n",
    "\n",
    "        # prepare for next iteration\n",
    "        f0 = f1\n",
    "        t0 = t1\n",
    "        last_obs = observation\n",
    "\n",
    "# render the final state\n",
    "env.render()\n",
    "\n",
    "# plot a moving average of scores\n",
    "N=10\n",
    "plt.plot(np.convolve(scores, np.ones((N,))/N, mode='valid'))"
   ]
  },
  {
   "cell_type": "code",
   "execution_count": 49,
   "metadata": {
    "slideshow": {
     "slide_type": "slide"
    }
   },
   "outputs": [
    {
     "name": "stdout",
     "output_type": "stream",
     "text": [
      "('LEFT', 0.9999401487603385) ('DOWN', 2.130085862156446e-15) ('RIGHT', 3.795253158822954e-29) ('UP', 5.9851239659334695e-05)\n"
     ]
    },
    {
     "data": {
      "image/png": "[encoded data removed]",
      "text/plain": [
       "<Figure size 864x360 with 4 Axes>"
      ]
     },
     "metadata": {
      "needs_background": "light"
     },
     "output_type": "display_data"
    }
   ],
   "source": [
    "# see predicted outcomes for different actions at a particular state\n",
    "state = 0\n",
    "fig,ax = plt.subplots(1, 4, figsize=(12,5), sharex=True, sharey=True)\n",
    "acts = ['LEFT', 'DOWN', 'RIGHT', 'UP']\n",
    "\n",
    "# get the min and max values for plot normalization\n",
    "pmin = 0.0\n",
    "pmax = 0.0\n",
    "for i in range(n_actions):\n",
    "    pred = np.dot(M, states[state])[i]\n",
    "    pmin = min(pred.min(), pmin)\n",
    "    pmax = max(pred.max(), pmax)\n",
    "\n",
    "# do the plot\n",
    "for i in range(n_actions):\n",
    "    pred = np.dot(M, states[state])[i]\n",
    "    ax[i].matshow((pred.reshape((size, size))), vmin=pmin, vmax=pmax, cmap='hot')\n",
    "    ax[i].set_xlabel(acts[i])\n",
    "\n",
    "# print out model-based predictions for state-actions\n",
    "Q = np.dot(np.dot(M, states[state]), rewards)\n",
    "pQ = np.exp(Q*tau)/np.exp(Q*tau).sum()\n",
    "print(*zip(acts, pQ))"
   ]
  },
  {
   "cell_type": "code",
   "execution_count": 48,
   "metadata": {
    "slideshow": {
     "slide_type": "slide"
    }
   },
   "outputs": [
    {
     "data": {
      "text/plain": [
       "<matplotlib.colorbar.Colorbar at 0x7f44a4b99350>"
      ]
     },
     "execution_count": 48,
     "metadata": {},
     "output_type": "execute_result"
    },
    {
     "data": {
      "image/png": "[encoded data removed]",
      "text/plain": [
       "<Figure size 288x288 with 2 Axes>"
      ]
     },
     "metadata": {
      "needs_background": "light"
     },
     "output_type": "display_data"
    }
   ],
   "source": [
    "# see what state rewards it's learned\n",
    "plt.matshow(rewards.reshape((size, size)), cmap='bwr_r', vmin=-1, vmax=1.0)\n",
    "plt.colorbar()"
   ]
  },
  {
   "cell_type": "code",
   "execution_count": 46,
   "metadata": {
    "slideshow": {
     "slide_type": "slide"
    }
   },
   "outputs": [
    {
     "name": "stdout",
     "output_type": "stream",
     "text": [
      "  (Right)\n",
      "SFFFFFFFFF\n",
      "F\u001b[41mF\u001b[0mFFFFFFFF\n",
      "FFFFFFFFFF\n",
      "FFFFFFFFFF\n",
      "FFFHFHFFFG\n",
      "FFFFFFFFFF\n",
      "FFFHFFFHFF\n",
      "FFFFFFFFFF\n",
      "FFFFFFFFFF\n",
      "FFFFFFFFFH\n",
      "\n"
     ]
    },
    {
     "data": {
      "text/plain": [
       "None"
      ]
     },
     "metadata": {},
     "output_type": "display_data"
    }
   ],
   "source": [
    "# let's see the trained model in action!\n",
    "\n",
    "# reset the to starting point\n",
    "observation = env.reset()\n",
    "f0 = states[observation]\n",
    "for t in range(100):\n",
    "    # pick an action following our policy\n",
    "    action = pick_action(f0, M, rewards, tau, p_rand=p_rand)\n",
    "    \n",
    "    # observe the next state\n",
    "    observation, reward, done, info = env.step(action)\n",
    "    f0 = states[observation]\n",
    "    \n",
    "    # print it to the screen\n",
    "    clear_output(wait=True)\n",
    "    display(print(env.render(mode='ansi')))\n",
    "    \n",
    "    # see if we're done\n",
    "    if done:\n",
    "        print(\"Episode finished after {} timesteps\".format(t+1))\n",
    "        break\n",
    "    time.sleep(.5)"
   ]
  },
  {
   "cell_type": "code",
   "execution_count": 73,
   "metadata": {
    "slideshow": {
     "slide_type": "slide"
    }
   },
   "outputs": [],
   "source": [
    "rewards[49] = 0.0"
   ]
  },
  {
   "cell_type": "code",
   "execution_count": 61,
   "metadata": {},
   "outputs": [
    {
     "data": {
      "text/plain": [
       "['SFFFFFFFHF',\n",
       " 'FFFFHFFHFF',\n",
       " 'FFHFFFFFHH',\n",
       " 'FHFFFFHHHH',\n",
       " 'FFFFHFFFFF',\n",
       " 'FFFFFFFFHF',\n",
       " 'FFHFHHFHHF',\n",
       " 'FFHFFFFFFH',\n",
       " 'FFFHFFHFFF',\n",
       " 'FHFHFFHFFG']"
      ]
     },
     "execution_count": 61,
     "metadata": {},
     "output_type": "execute_result"
    }
   ],
   "source": [
    "desc"
   ]
  },
  {
   "cell_type": "code",
   "execution_count": 45,
   "metadata": {},
   "outputs": [
    {
     "name": "stdout",
     "output_type": "stream",
     "text": [
      "\n",
      "\u001b[41mS\u001b[0mFFFFFFFFF\n",
      "FFFFFFFFFF\n",
      "FFFFFFFFFF\n",
      "FFFFFFFFFF\n",
      "FFFHFHFFFG\n",
      "FFFFFFFFFF\n",
      "FFFHFFFHFF\n",
      "FFFFFFFFFF\n",
      "FFFFFFFFFF\n",
      "FFFFFFFFFH\n"
     ]
    }
   ],
   "source": [
    "# remap the goal location\n",
    "new_desc = desc[:]\n",
    "drow = list(new_desc[-1])\n",
    "drow[-1] = 'H'\n",
    "new_desc[-1] = ''.join(drow)\n",
    "drow = list(new_desc[4])\n",
    "drow[-1] = 'G'\n",
    "new_desc[4] = ''.join(drow)\n",
    "new_desc\n",
    "env = frozen_lake.FrozenLakeEnv(desc=new_desc,\n",
    "                                is_slippery=slippery)\n",
    "env.render()"
   ]
  },
  {
   "cell_type": "markdown",
   "metadata": {
    "slideshow": {
     "slide_type": "slide"
    }
   },
   "source": [
    "## Booyah!!!"
   ]
  },
  {
   "cell_type": "code",
   "execution_count": null,
   "metadata": {},
   "outputs": [],
   "source": []
  }
 ],
 "metadata": {
  "celltoolbar": "Slideshow",
  "kernelspec": {
   "display_name": "Python 3",
   "language": "python",
   "name": "python3"
  },
  "language_info": {
   "codemirror_mode": {
    "name": "ipython",
    "version": 3
   },
   "file_extension": ".py",
   "mimetype": "text/x-python",
   "name": "python",
   "nbconvert_exporter": "python",
   "pygments_lexer": "ipython3",
   "version": "3.7.7"
  },
  "rise": {
   "scroll": true
  }
 },
 "nbformat": 4,
 "nbformat_minor": 4
}
