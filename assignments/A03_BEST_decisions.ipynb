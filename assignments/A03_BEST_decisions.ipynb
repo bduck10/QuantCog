{
 "cells": [
  {
   "cell_type": "markdown",
   "metadata": {},
   "source": [
    "# Assignment 3: BEST Decisions\n",
    "## Quantified Cognition\n",
    "### Psychology 5332\n"
   ]
  },
  {
   "cell_type": "markdown",
   "metadata": {},
   "source": [
    "# Name: *Your Name Here*\n",
    "# User ID: *Your ID Here*"
   ]
  },
  {
   "cell_type": "markdown",
   "metadata": {},
   "source": [
    "# Objectives\n",
    "\n",
    "Upon completion of this assignment, the student will demonstrate the ability to:\n",
    "\n",
    "1. Build/Modify a PyMC3 model\n",
    "2. Fit the model to data\n",
    "3. Plot parameter posteriors\n",
    "4. Evaluate model fit results\n"
   ]
  },
  {
   "cell_type": "markdown",
   "metadata": {},
   "source": [
    "# Assignment\n",
    "\n",
    "- The goal of this assignment is to analyze the reaction time data from the perceptual decision-making task we examined in the first assignment. We want to know whether there are reliable differences in RTs (either means or standard deviations) between the speeded, accuracy, or normal conditions. \n",
    "\n",
    "- You will perform this assignment by writing code in *this notebook* (***after making a copy and renaming it to have your userid in the title --- e.g., A03_BEST_decisions_mst3k***).\n",
    "\n",
    "- In addition to this notebook, you will need to download the data from the same directory on GitHub. The file is decision_data.csv.\n",
    "\n",
    "- ***When you are done, save this notebook as HTML (`File -> Download as -> HTML`) and upload it to the matching assignment on UVACollab.***\n",
    "\n",
    "## HINTS\n",
    "\n",
    "- Be sure to comment your code\n",
    "- I have provided cells with general instructions for what they should contain.\n",
    "  "
   ]
  },
  {
   "cell_type": "code",
   "execution_count": null,
   "metadata": {},
   "outputs": [],
   "source": [
    "# Load in necessary modules\n",
    "import numpy as np\n",
    "import matplotlib.pyplot as plt\n",
    "import pandas as pd\n",
    "import pymc3 as pm\n"
   ]
  },
  {
   "cell_type": "code",
   "execution_count": null,
   "metadata": {},
   "outputs": [],
   "source": [
    "# Read in the data from the decision_data.csv file to a Pandas DataFrame\n",
    "# (This is data from a perceptual decision-making task, BTW)\n",
    "df = pd.read_csv('decision_data.csv', index_col='Unnamed: 0')\n"
   ]
  },
  {
   "cell_type": "code",
   "execution_count": null,
   "metadata": {},
   "outputs": [],
   "source": [
    "# Use the .head method of the DataFrame to show the first few lines of the file\n",
    "# The columns are:\n",
    "#   correct: whether they made a correct response (1=Correct, 0=Incorrect)\n",
    "#   rt: their reaction time in seconds\n",
    "#   cond: whether they were in a speeded, accuracy, or neutral condition\n",
    "#   log_rt: log-transformed reaction time\n",
    "df.head(5)"
   ]
  },
  {
   "cell_type": "markdown",
   "metadata": {},
   "source": [
    "## Bayesian t-test with all three pairwise comparisons\n",
    "\n",
    "We want to test whether there are differences between the log reaction times (`log_rt` column in the data) for *correct* responses in each of the three conditions (`cond` column): Accuracy, Neutral, and Speed.\n",
    "\n",
    "I've pasted in the 2-class independent samples t-test from class. You will need to extend this to three classes. \n",
    "\n",
    "First, you'll need to extract the log RTs for each of the three conditions.\n",
    "\n",
    "Then, you'll need to modify the model code pasted below to fit to one more data (it's currently fitting to A and B dataset, but you need to add a C dataset.)\n",
    "\n",
    "Finally, you'll fit the model to the data and plot posteriors (especially of the differences in posteriors) to assess where there are differences in the means (mu) and standard deviations (sd) between pairs of conditions.\n"
   ]
  },
  {
   "cell_type": "code",
   "execution_count": null,
   "metadata": {},
   "outputs": [],
   "source": [
    "# Make three datasets from df\n",
    "# one for each condition \n",
    "# (like A and B from class, but for all three conditions).\n",
    "\n"
   ]
  },
  {
   "cell_type": "code",
   "execution_count": null,
   "metadata": {},
   "outputs": [],
   "source": [
    "# Build a PyMC3 model to perform a Bayesian t-test\n",
    "# ***UPDATE THIS MODEL TO HANDLE THREE CONDITIONS***\n",
    "with pm.Model() as model:\n",
    "    # set up the params/priors for each condition\n",
    "    mu_A = pm.Normal('mu_A', A.mean(), A.std()*2.0)\n",
    "    sd_A = pm.HalfCauchy('sd_A', 5)\n",
    "    \n",
    "    mu_B = pm.Normal('mu_B', B.mean(), B.std()*2.0)\n",
    "    sd_B = pm.HalfCauchy('sd_B', 5)\n",
    "    \n",
    "    # degrees of freedom are shared across conditions\n",
    "    nu = pm.Exponential('df_minus_one', 1/29.) + 1.\n",
    "    \n",
    "    # build the model (needs to have three conditions)\n",
    "    data_A = pm.StudentT('data_A', mu=mu_A, sd=sd_A, nu=nu, observed=A)\n",
    "    data_B = pm.StudentT('data_B', mu=mu_B, sd=sd_B, nu=nu, observed=B)\n",
    "    \n",
    "    # set up some deterministic vars to keep (need this for all pairwise combo of A, B, and C)\n",
    "    diff_of_means = pm.Deterministic('difference of means', mu_A - mu_B)\n",
    "    diff_of_stds = pm.Deterministic('difference of stds', sd_A - sd_B)\n",
    "    effect_size = pm.Deterministic('effect size',\n",
    "                                   diff_of_means / np.sqrt((sd_A**2 + sd_B**2) / 2))\n"
   ]
  },
  {
   "cell_type": "code",
   "execution_count": null,
   "metadata": {},
   "outputs": [],
   "source": [
    "# fit the model\n",
    "with model:\n",
    "    trace = pm.sample(2000, cores=2)"
   ]
  },
  {
   "cell_type": "code",
   "execution_count": null,
   "metadata": {},
   "outputs": [],
   "source": [
    "# plot the traces\n",
    "pm.traceplot(trace);"
   ]
  },
  {
   "cell_type": "code",
   "execution_count": null,
   "metadata": {},
   "outputs": [],
   "source": [
    "# plot the posterior differences\n",
    "# ***Update this for all your pairwise comparisons***\n",
    "pm.plot_posterior(trace, varnames=['difference of means','difference of stds', 'effect size'],\n",
    "                  ref_val=0.0);"
   ]
  },
  {
   "cell_type": "markdown",
   "metadata": {},
   "source": [
    "## Evaluation\n",
    "\n",
    "***Where do we see reliable differences in mean or standard deviation between conditions?***"
   ]
  },
  {
   "cell_type": "markdown",
   "metadata": {},
   "source": [
    "### Write your short answer here:\n"
   ]
  }
 ],
 "metadata": {
  "kernelspec": {
   "display_name": "Python 3",
   "language": "python",
   "name": "python3"
  },
  "language_info": {
   "codemirror_mode": {
    "name": "ipython",
    "version": 3
   },
   "file_extension": ".py",
   "mimetype": "text/x-python",
   "name": "python",
   "nbconvert_exporter": "python",
   "pygments_lexer": "ipython3",
   "version": "3.7.7"
  }
 },
 "nbformat": 4,
 "nbformat_minor": 4
}
