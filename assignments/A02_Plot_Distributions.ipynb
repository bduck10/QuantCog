{
 "cells": [
  {
   "cell_type": "markdown",
   "metadata": {},
   "source": [
    "# Assignment 2: Plotting Probability Distributions\n",
    "## Quantified Cognition\n",
    "### Psychology 5332\n",
    "\n",
    "By: Per B. Sederberg, PhD\n"
   ]
  },
  {
   "cell_type": "markdown",
   "metadata": {},
   "source": [
    "# Objectives\n",
    "\n",
    "Upon completion of this assignment, the student will demonstrate the ability to:\n",
    "\n",
    "1. Use a Jupyter Notebook\n",
    "\n",
    "2. Parameterize probability densities\n",
    "\n",
    "3. Plot different density distributions\n"
   ]
  },
  {
   "cell_type": "markdown",
   "metadata": {},
   "source": [
    "# Assignment\n",
    "\n",
    "- Perform this assignment by writing code in *this notebook* (***after making a copy and renaming it to have your userid in the title --- e.g., A02_Plot_Distributions_mst3k***).\n",
    "\n",
    "- Your task is to recreate a handful of distribution plots from Wikipedia.\n",
    "\n",
    "- Links to the specific distributions and plots to recreate are provided below. \n",
    "\n",
    "- *Note: Do not worry about exact line colors of fonts; the key is to recreate the shapes of the distributions.*\n",
    "\n",
    "- ***When you are done, save this notebook as HTML (`File -> Download as -> HTML`) and upload it to the matching assignment on UVACollab.***\n",
    "\n"
   ]
  },
  {
   "cell_type": "markdown",
   "metadata": {},
   "source": [
    "# Name: \n",
    "# User ID: "
   ]
  },
  {
   "cell_type": "code",
   "execution_count": 12,
   "metadata": {},
   "outputs": [],
   "source": [
    "# Load in necessary modules\n",
    "import numpy as np\n",
    "import matplotlib.pyplot as plt\n",
    "import dists"
   ]
  },
  {
   "cell_type": "code",
   "execution_count": 13,
   "metadata": {},
   "outputs": [],
   "source": [
    "# function to help plot a PDF\n",
    "def plot_pdf(dist, support=None, npoints=100, alpha=0.7):\n",
    "    # see if must determine support range\n",
    "    if support is None:\n",
    "        # grab 99% interval and then expand a bit\n",
    "        support = np.array(dist.interval(0.99))\n",
    "        rng = np.diff(support)*.1\n",
    "        support[0] -= rng\n",
    "        support[1] += rng\n",
    "    \n",
    "    # set a range of linearly-spaced points\n",
    "    x = np.linspace(support[0], support[1], npoints)\n",
    "    \n",
    "    # evaluate the pdf at those points\n",
    "    pdf = dist.pdf(x)\n",
    "    \n",
    "    # plot the results\n",
    "    plt.plot(x, pdf, lw=3, alpha=alpha)\n",
    "    plt.xlabel('Value')\n",
    "    plt.ylabel('Probability Density')"
   ]
  },
  {
   "cell_type": "markdown",
   "metadata": {},
   "source": [
    "### Inverse Gamma Distibution\n",
    "\n",
    "https://en.wikipedia.org/wiki/Inverse-gamma_distribution\n",
    "\n",
    "#### Recreate this plot\n",
    "\n",
    "![](https://upload.wikimedia.org/wikipedia/commons/thumb/c/c8/Inv_gamma_pdf.svg/488px-Inv_gamma_pdf.svg.png)"
   ]
  },
  {
   "cell_type": "code",
   "execution_count": 14,
   "metadata": {},
   "outputs": [
    {
     "data": {
      "text/plain": [
       "<matplotlib.legend.Legend at 0x7f410f2d2ed0>"
      ]
     },
     "execution_count": 14,
     "metadata": {},
     "output_type": "execute_result"
    },
    {
     "data": {
      "image/png": "[encoded data removed]",
      "text/plain": [
       "<Figure size 432x288 with 1 Axes>"
      ]
     },
     "metadata": {
      "needs_background": "light"
     },
     "output_type": "display_data"
    }
   ],
   "source": [
    "# An example to get you started\n",
    "plot_pdf(dists.invgamma(alpha=1, beta=1), support=[0, 3])\n",
    "plot_pdf(dists.invgamma(alpha=2, beta=1), support=[0, 3])\n",
    "\n",
    "# ... Add remaining plots ...\n",
    "\n",
    "# add a legend\n",
    "plt.legend([r'$\\alpha=1$, $\\beta = 1$',\n",
    "            r'$\\alpha=2$, $\\beta = 1$'])"
   ]
  },
  {
   "cell_type": "markdown",
   "metadata": {},
   "source": [
    "### Exponential Distibution\n",
    "\n",
    "https://en.wikipedia.org/wiki/Exponential_distribution\n",
    "\n",
    "#### Recreate this plot\n",
    "\n",
    "![](https://upload.wikimedia.org/wikipedia/commons/thumb/0/02/Exponential_probability_density.svg/488px-Exponential_probability_density.svg.png)"
   ]
  },
  {
   "cell_type": "code",
   "execution_count": 15,
   "metadata": {},
   "outputs": [],
   "source": [
    "# code to plot exponential distribution here\n",
    "\n",
    "\n"
   ]
  },
  {
   "cell_type": "markdown",
   "metadata": {},
   "source": [
    "### Student's t Distibution\n",
    "\n",
    "https://en.wikipedia.org/wiki/Student%27s_t-distribution\n",
    "\n",
    "#### Recreate this plot\n",
    "\n",
    "![](https://upload.wikimedia.org/wikipedia/commons/thumb/4/41/Student_t_pdf.svg/488px-Student_t_pdf.svg.png)"
   ]
  },
  {
   "cell_type": "code",
   "execution_count": 16,
   "metadata": {},
   "outputs": [],
   "source": [
    "# code for Student's t plots here\n",
    "\n"
   ]
  }
 ],
 "metadata": {
  "kernelspec": {
   "display_name": "Python 3",
   "language": "python",
   "name": "python3"
  },
  "language_info": {
   "codemirror_mode": {
    "name": "ipython",
    "version": 3
   },
   "file_extension": ".py",
   "mimetype": "text/x-python",
   "name": "python",
   "nbconvert_exporter": "python",
   "pygments_lexer": "ipython3",
   "version": "3.7.7"
  }
 },
 "nbformat": 4,
 "nbformat_minor": 4
}
