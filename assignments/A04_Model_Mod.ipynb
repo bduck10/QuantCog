{
 "cells": [
  {
   "cell_type": "markdown",
   "metadata": {},
   "source": [
    "# Assignment 3: Model Modification\n",
    "## Quantified Cognition\n",
    "### Psychology 5332\n"
   ]
  },
  {
   "cell_type": "markdown",
   "metadata": {},
   "source": [
    "# Name: *Your Name Here*\n",
    "# User ID: *Your ID Here*"
   ]
  },
  {
   "cell_type": "markdown",
   "metadata": {},
   "source": [
    "# Objectives\n",
    "\n",
    "Upon completion of this assignment, the student will demonstrate the ability to:\n",
    "\n",
    "1. Modify a model to test a hypothesis\n",
    "2. Fit the model to data\n",
    "3. Plot parameter posteriors\n",
    "4. Evaluate model fit results\n"
   ]
  },
  {
   "cell_type": "markdown",
   "metadata": {},
   "source": [
    "# Assignment\n",
    "\n",
    "- The goal of this assignment is to test two alternative hypotheses about the underlying decision-making processes change with a speed--accuracy trade-off. \n",
    "\n",
    "- You will perform this assignment by writing code in *this notebook* (***after making a copy and renaming it to have your userid in the title --- e.g., A04_Model_Mod_mst3k***).\n",
    "\n",
    "- In addition to this notebook, you will need to download the data from the same directory on GitHub. The file is decision_data.csv.\n",
    "\n",
    "- ***When you are done, save this notebook as HTML (`File -> Download as -> HTML`) and upload it to the matching assignment on UVACollab.***\n",
    "\n",
    "## HINTS\n",
    "\n",
    "- Be sure to comment your code\n",
    "- I have provided cells with general instructions for what they should contain.\n",
    "  "
   ]
  },
  {
   "cell_type": "markdown",
   "metadata": {},
   "source": [
    "## Model variants\n",
    "\n",
    "We will be focusing on the timed racing diffusion model (TRDM). In class we demonstrated that the model did a fairly good job of capturing the speed--accuracy trade-off data by changing the drift rate of the timing process (see the `vt_A` and `vt_S` parameters). In the speeded condition the timer accumulated much faster such that decisions were made based on the timer more often (i.e., the participant felt urgency to make a response and guessed based on the evidence they had accumulated up until that point.)\n",
    "\n",
    "In this model, there is a parameter (`rho`) that determines what information is used to guide the decisions when the timer crosses its threshold before either of the choices. If `rho=0`, then the model guesses randomly between the two cases. If `rho=1`, then the model makes its decision based on the amount of evidence accumulated for each choice up until that point. Any value in between determines the relative trade-off between those two approaches for timer-based decisions.\n",
    "\n",
    "For the previous analysis, we let `rho` be a free parameter, allowed to take on any value between zero and one. For this assignment, we will test two model variants to see how they perform relative to this first model:\n",
    "\n",
    "1) A model with `rho` fixed at zero, so timer-based decisions are random guesses between the choices.\n",
    "\n",
    "2) A model with `rho` fixed at one, so the timer-based decisions use the information accumulated up until that point to guide the decision.\n",
    "\n",
    "***I have pasted the code from class for the base model below. Your task will be to modifiy the code to change the rho parameter to be fixed (see the commented code, which is the only change you need to make) and then rerun the models and interpret the results.***\n"
   ]
  },
  {
   "cell_type": "code",
   "execution_count": 1,
   "metadata": {},
   "outputs": [],
   "source": [
    "# Load in necessary modules\n",
    "import numpy as np\n",
    "import matplotlib.pyplot as plt\n",
    "import pandas as pd\n",
    "import arviz as az\n",
    "\n",
    "from RunDEMC.density import kdensity\n",
    "from RunDEMC import Model, Param, dists\n",
    "from RunDEMC import DE, calc_bpic, joint_plot\n",
    "from RunDEMC.io import arviz_dict\n",
    "\n",
    "from waldrace import trdm_like, trdm_gen\n"
   ]
  },
  {
   "cell_type": "code",
   "execution_count": 2,
   "metadata": {},
   "outputs": [
    {
     "data": {
      "text/html": [
       "<div>\n",
       "<style scoped>\n",
       "    .dataframe tbody tr th:only-of-type {\n",
       "        vertical-align: middle;\n",
       "    }\n",
       "\n",
       "    .dataframe tbody tr th {\n",
       "        vertical-align: top;\n",
       "    }\n",
       "\n",
       "    .dataframe thead th {\n",
       "        text-align: right;\n",
       "    }\n",
       "</style>\n",
       "<table border=\"1\" class=\"dataframe\">\n",
       "  <thead>\n",
       "    <tr style=\"text-align: right;\">\n",
       "      <th></th>\n",
       "      <th>correct</th>\n",
       "      <th>rt</th>\n",
       "      <th>cond</th>\n",
       "      <th>log_rt</th>\n",
       "      <th>rt_acc</th>\n",
       "    </tr>\n",
       "  </thead>\n",
       "  <tbody>\n",
       "    <tr>\n",
       "      <th>3</th>\n",
       "      <td>1</td>\n",
       "      <td>0.4784</td>\n",
       "      <td>Accuracy</td>\n",
       "      <td>-0.737308</td>\n",
       "      <td>0.4784</td>\n",
       "    </tr>\n",
       "    <tr>\n",
       "      <th>4</th>\n",
       "      <td>1</td>\n",
       "      <td>0.4300</td>\n",
       "      <td>Accuracy</td>\n",
       "      <td>-0.843970</td>\n",
       "      <td>0.4300</td>\n",
       "    </tr>\n",
       "    <tr>\n",
       "      <th>5</th>\n",
       "      <td>1</td>\n",
       "      <td>0.4486</td>\n",
       "      <td>Accuracy</td>\n",
       "      <td>-0.801624</td>\n",
       "      <td>0.4486</td>\n",
       "    </tr>\n",
       "    <tr>\n",
       "      <th>6</th>\n",
       "      <td>1</td>\n",
       "      <td>0.3991</td>\n",
       "      <td>Speed</td>\n",
       "      <td>-0.918543</td>\n",
       "      <td>0.3991</td>\n",
       "    </tr>\n",
       "    <tr>\n",
       "      <th>8</th>\n",
       "      <td>1</td>\n",
       "      <td>0.4393</td>\n",
       "      <td>Accuracy</td>\n",
       "      <td>-0.822573</td>\n",
       "      <td>0.4393</td>\n",
       "    </tr>\n",
       "  </tbody>\n",
       "</table>\n",
       "</div>"
      ],
      "text/plain": [
       "   correct      rt      cond    log_rt  rt_acc\n",
       "3        1  0.4784  Accuracy -0.737308  0.4784\n",
       "4        1  0.4300  Accuracy -0.843970  0.4300\n",
       "5        1  0.4486  Accuracy -0.801624  0.4486\n",
       "6        1  0.3991     Speed -0.918543  0.3991\n",
       "8        1  0.4393  Accuracy -0.822573  0.4393"
      ]
     },
     "execution_count": 2,
     "metadata": {},
     "output_type": "execute_result"
    }
   ],
   "source": [
    "# load in the data\n",
    "dat = pd.read_csv('decision_data.csv', index_col=0)\n",
    "dat = dat[dat.cond != 'Neutral']\n",
    "dat['rt_acc'] = dat['rt']\n",
    "dat.loc[dat.correct==0,'rt_acc'] = -dat['rt']\n",
    "dat.head()"
   ]
  },
  {
   "cell_type": "code",
   "execution_count": 3,
   "metadata": {},
   "outputs": [],
   "source": [
    "# grab the beh data of interest\n",
    "choices_A = np.array(dat[(dat['cond']=='Accuracy')]['correct']+1)\n",
    "rts_A = np.array(dat[(dat['cond']=='Accuracy')]['rt'])\n",
    "choices_S = np.array(dat[(dat['cond']=='Speed')]['correct']+1)\n",
    "rts_S = np.array(dat[(dat['cond']=='Speed')]['rt'])\n",
    "min_rt = dat.rt.min()"
   ]
  },
  {
   "cell_type": "code",
   "execution_count": 4,
   "metadata": {},
   "outputs": [],
   "source": [
    "# set up the sim\n",
    "cond='Accuracy'\n",
    "\n",
    "# normed histogram\n",
    "def dhist(dat, nvals, alpha=.3, color='b'):\n",
    "    p,b = np.histogram(dat, bins='auto', density=True)\n",
    "    w = b[1]-b[0]\n",
    "    p *= float(len(dat))/nvals\n",
    "    return plt.bar(b[1:]-w, p, width=w, alpha=.3, color=color)\n",
    "\n",
    "# normed pdf\n",
    "xvals = np.linspace(0.0,2.0,1000)\n",
    "\n",
    "# put it all together\n",
    "def run_trdm(cond, v_1=0.25, v_2=0.75, v_t=0.1, theta=0.0,\n",
    "             sig=1.0, sig_t=0.5, rho=0.0):\n",
    "\n",
    "    ndat = (dat['cond']==cond).sum()\n",
    "    # plot the hist of the data, followed by the model PDF line\n",
    "    dhist(np.array(dat[(dat['cond']==cond)&(dat['correct']==1)]['rt']), ndat, color='b')\n",
    "    likes = trdm_like(np.ones(len(xvals))*2, xvals, \n",
    "                      v=[v_1, v_2, v_t], alpha=1.0, theta=theta,\n",
    "                      sig=[sig, sig, sig_t], rho=rho)\n",
    "    plt.plot(xvals, likes, color='b', lw=2.)\n",
    "    \n",
    "    dhist(np.array(dat[(dat['cond']==cond)&(dat['correct']==0)]['rt']), ndat, color='r')\n",
    "    likes = trdm_like(np.ones(len(xvals))*1, xvals, \n",
    "                      v=[v_1, v_2, v_t], alpha=1.0, theta=theta,\n",
    "                      sig=[sig, sig, sig_t], rho=rho)\n",
    "    plt.plot(xvals, likes, color='r', lw=2.)\n",
    "    #ylim(0,5.0)\n",
    "    plt.xlim(0,2.0)"
   ]
  },
  {
   "cell_type": "markdown",
   "metadata": {},
   "source": [
    "## DUPLICATE THE FOLLOWING CELLS AND MAKE NECESSARY CHANGES TO TEST NEW HYPOTHESES"
   ]
  },
  {
   "cell_type": "code",
   "execution_count": 5,
   "metadata": {},
   "outputs": [
    {
     "name": "stdout",
     "output_type": "stream",
     "text": [
      "Initializing: 80(80) 8(8) Iterations (100):\n"
     ]
    },
    {
     "data": {
      "text/html": [
       "\n",
       "    <div>\n",
       "        <style>\n",
       "            /* Turns off some styling */\n",
       "            progress {\n",
       "                /* gets rid of default border in Firefox and Opera. */\n",
       "                border: none;\n",
       "                /* Needs to be in here for Safari polyfill so background images work as expected. */\n",
       "                background-size: auto;\n",
       "            }\n",
       "            .progress-bar-interrupted, .progress-bar-interrupted::-webkit-progress-bar {\n",
       "                background: #F44336;\n",
       "            }\n",
       "        </style>\n",
       "      <progress value='100' class='' max='100' style='width:300px; height:20px; vertical-align: middle;'></progress>\n",
       "      100.00% [100/100 00:20<00:00]\n",
       "    </div>\n",
       "    "
      ],
      "text/plain": [
       "<IPython.core.display.HTML object>"
      ]
     },
     "metadata": {},
     "output_type": "display_data"
    },
    {
     "name": "stdout",
     "output_type": "stream",
     "text": [
      "Iterations (500):\n"
     ]
    },
    {
     "data": {
      "text/html": [
       "\n",
       "    <div>\n",
       "        <style>\n",
       "            /* Turns off some styling */\n",
       "            progress {\n",
       "                /* gets rid of default border in Firefox and Opera. */\n",
       "                border: none;\n",
       "                /* Needs to be in here for Safari polyfill so background images work as expected. */\n",
       "                background-size: auto;\n",
       "            }\n",
       "            .progress-bar-interrupted, .progress-bar-interrupted::-webkit-progress-bar {\n",
       "                background: #F44336;\n",
       "            }\n",
       "        </style>\n",
       "      <progress value='500' class='' max='500' style='width:300px; height:20px; vertical-align: middle;'></progress>\n",
       "      100.00% [500/500 01:41<00:00]\n",
       "    </div>\n",
       "    "
      ],
      "text/plain": [
       "<IPython.core.display.HTML object>"
      ]
     },
     "metadata": {},
     "output_type": "display_data"
    },
    {
     "name": "stdout",
     "output_type": "stream",
     "text": [
      "Best fitting params:\n",
      "Weight: 235.47127498698202\n",
      "BPIC: -450.543626221524\n",
      "\"v1\": 0.325377,\n",
      "\"v2\": 1.989510,\n",
      "\"vt_A\": 0.779773,\n",
      "\"vt_S\": 4.514289,\n",
      "\"sig\": 0.634516,\n",
      "\"sig_t\": 0.785612,\n",
      "\"rho\": 0.472381,\n",
      "\"t0\": 0.155141,\n"
     ]
    }
   ],
   "source": [
    "# Test change in timer drift\n",
    "\n",
    "# set up the params\n",
    "params = [Param(name='v1', prior=dists.trunc_normal(2.0, 2.0, 0., 5.0)),\n",
    "          Param(name='v2', prior=dists.trunc_normal(2.0, 2.0, 0., 5.0)),\n",
    "          Param(name='vt_A', prior=dists.trunc_normal(2.0, 2.0, 0., 5.0)),\n",
    "          Param(name='vt_S', prior=dists.trunc_normal(2.0, 2.0, 0., 5.0)),\n",
    "          Param(name='sig', prior=dists.halfcauchy(5.0)),\n",
    "          Param(name='sig_t', prior=dists.halfcauchy(5.0)),\n",
    "          Param(name='rho', prior=dists.normal(0, 1.4),\n",
    "                transform=dists.invlogit),\n",
    "          #Param(name='rho', prior=0.0),\n",
    "          Param(name='t0', prior=dists.normal(0, 1.4), \n",
    "                transform=lambda x: dists.invlogit(x)*min_rt)]\n",
    "param_names = [p.name for p in params]\n",
    "\n",
    "# define the likelihood function\n",
    "def like_fun(pop, *args):\n",
    "    likes = np.zeros(len(pop))\n",
    "    for i,p in enumerate(pop):\n",
    "        # first Accuracy\n",
    "        likes_A = trdm_like(choices_A, rts_A, \n",
    "                            v=[p['v1'], p['v2'], p['vt_A']], \n",
    "                            alpha=1.0, \n",
    "                            theta=p['t0'],\n",
    "                            sig=[p['sig'], p['sig'], p['sig_t']], \n",
    "                            rho=p['rho'])\n",
    "        likes[i] += np.log(likes_A).sum()\n",
    "        if likes[i] == -np.inf:\n",
    "            continue\n",
    "            \n",
    "        # then Speed\n",
    "        likes_S = trdm_like(choices_S, rts_S, \n",
    "                            v=[p['v1'], p['v2'], p['vt_S']], \n",
    "                            alpha=1.0, \n",
    "                            theta=p['t0'],\n",
    "                            sig=[p['sig'], p['sig'], p['sig_t']], \n",
    "                            rho=p['rho'])\n",
    "        likes[i] += np.log(likes_S).sum()\n",
    "\n",
    "    return likes\n",
    "\n",
    "       \n",
    "# make the model\n",
    "m = Model('trdm', params=params,\n",
    "          like_fun=like_fun,\n",
    "          pop_parallel=True,\n",
    "          verbose=True)\n",
    "\n",
    "\n",
    "# do some burnin\n",
    "times = m.sample(100, burnin=True)\n",
    "\n",
    "# sample from the posterior\n",
    "times = m.sample(500, burnin=False)\n",
    "\n",
    "\n",
    "print(\"Best fitting params:\")\n",
    "burnin=200\n",
    "best_ind = m.weights[burnin:].argmax()\n",
    "print(\"Weight:\", m.weights[burnin:].ravel()[best_ind])\n",
    "print(\"BPIC:\", calc_bpic(m.weights[burnin:])['bpic'])\n",
    "\n",
    "indiv = [m.particles[burnin:,:,i].ravel()[best_ind] \n",
    "         for i in range(m.particles.shape[-1])]\n",
    "pp = {}\n",
    "for p,v in zip(m.param_names,indiv):\n",
    "    pp[p] = v\n",
    "    print('\"%s\": %f,'%(p,v))\n",
    "    "
   ]
  },
  {
   "cell_type": "code",
   "execution_count": 6,
   "metadata": {},
   "outputs": [
    {
     "data": {
      "image/png": "[encoded data removed]",
      "text/plain": [
       "<Figure size 1008x432 with 2 Axes>"
      ]
     },
     "metadata": {
      "needs_background": "light"
     },
     "output_type": "display_data"
    }
   ],
   "source": [
    "# set up new figure\n",
    "plt.figure(figsize=(14,6))\n",
    "\n",
    "# try different params!\n",
    "plt.subplot(1,2,1)\n",
    "cond='Speed'\n",
    "run_trdm(cond, v_1=pp['v1'], v_2=pp['v2'], v_t=pp['vt_S'],\n",
    "         theta=pp['t0'], sig=pp['sig'], sig_t=pp['sig_t'], rho=pp['rho'])\n",
    "plt.xlabel('RT (s)')\n",
    "plt.xlim(0,2.0)\n",
    "plt.title(cond)\n",
    "\n",
    "plt.subplot(1,2,2)\n",
    "cond='Accuracy'\n",
    "run_trdm(cond, v_1=pp['v1'], v_2=pp['v2'], v_t=pp['vt_A'],\n",
    "         theta=pp['t0'], sig=pp['sig'], sig_t=pp['sig_t'], rho=pp['rho'])\n",
    "plt.xlabel('RT (s)')\n",
    "plt.xlim(0,2.0)\n",
    "plt.title(cond);"
   ]
  },
  {
   "cell_type": "markdown",
   "metadata": {},
   "source": [
    "## Evaluation\n",
    "\n",
    "***How did setting rho to a fixed value affect the performance, especially in the speeded condition where the timer was getting used more?***\n",
    "\n",
    "***Of the three models (free rho, rho=0, rho=1), which provided the best fit based on BPIC?***"
   ]
  },
  {
   "cell_type": "markdown",
   "metadata": {},
   "source": [
    "### Write your short answer here:\n"
   ]
  }
 ],
 "metadata": {
  "kernelspec": {
   "display_name": "Python 3",
   "language": "python",
   "name": "python3"
  },
  "language_info": {
   "codemirror_mode": {
    "name": "ipython",
    "version": 3
   },
   "file_extension": ".py",
   "mimetype": "text/x-python",
   "name": "python",
   "nbconvert_exporter": "python",
   "pygments_lexer": "ipython3",
   "version": "3.7.7"
  }
 },
 "nbformat": 4,
 "nbformat_minor": 4
}
